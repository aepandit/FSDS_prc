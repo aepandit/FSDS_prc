{
 "cells": [
  {
   "cell_type": "markdown",
   "id": "57c477cb",
   "metadata": {},
   "source": [
    "### 1. Write a Python Program to Find LCM?"
   ]
  },
  {
   "cell_type": "code",
   "execution_count": 3,
   "id": "e370fb11",
   "metadata": {},
   "outputs": [
    {
     "name": "stdout",
     "output_type": "stream",
     "text": [
      "Enter first number:5\n",
      "Enter second number:9\n",
      "The LCM of 5 ans 9 is 45\n"
     ]
    }
   ],
   "source": [
    "num1=int(input(\"Enter first number:\"))\n",
    "num2=int(input(\"Enter second number:\"))\n",
    "maxnum=max(num1,num2)\n",
    "\n",
    "while (True):\n",
    "    if (maxnum % num1 == 0 and maxnum % num2 == 0):\n",
    "        break\n",
    "    maxnum=maxnum+1\n",
    "print(f\"The LCM of {num1} ans {num2} is {maxnum}\")"
   ]
  },
  {
   "cell_type": "markdown",
   "id": "5e54a033",
   "metadata": {},
   "source": [
    "### 2.Write a Python Program to Find HCF?"
   ]
  },
  {
   "cell_type": "code",
   "execution_count": 4,
   "id": "93fadf76",
   "metadata": {},
   "outputs": [
    {
     "name": "stdout",
     "output_type": "stream",
     "text": [
      "Enter first number:15\n",
      "Enter second number:25\n",
      "The HCF of 15 and 25 is 5\n"
     ]
    }
   ],
   "source": [
    "a=int(input(\"Enter first number:\"))\n",
    "b=int(input(\"Enter second number:\"))\n",
    "if b > a:\n",
    "    max=a\n",
    "else:\n",
    "    max=b\n",
    "    \n",
    "for i in range(1,max+1):\n",
    "    if ( a % i == 0) and (b % i == 0):\n",
    "        hcf = i\n",
    "print(f\"The HCF of {a} and {b} is {hcf}\")"
   ]
  },
  {
   "cell_type": "markdown",
   "id": "d07e5bc7",
   "metadata": {},
   "source": [
    "### 3.Write a Python Program to Convert Decimal to Binary, Octal and Hexadecimal?"
   ]
  },
  {
   "cell_type": "code",
   "execution_count": 5,
   "id": "e6a48af1",
   "metadata": {},
   "outputs": [
    {
     "name": "stdout",
     "output_type": "stream",
     "text": [
      "The decimal value of 10\n",
      "0b1010 in binary.\n",
      "0o12 in octal.\n",
      "0xa in hexadecimal.\n"
     ]
    }
   ],
   "source": [
    "decimal = 10\n",
    "print(f\"The decimal value of {decimal}\")\n",
    "print(bin(decimal), \"in binary.\")\n",
    "print(oct(decimal), \"in octal.\")\n",
    "print(hex(decimal), \"in hexadecimal.\")"
   ]
  },
  {
   "cell_type": "markdown",
   "id": "0824ffa8",
   "metadata": {},
   "source": [
    "### 4.Write a Python Program To Find ASCII value of a character?"
   ]
  },
  {
   "cell_type": "code",
   "execution_count": 13,
   "id": "0e55d31d",
   "metadata": {},
   "outputs": [
    {
     "name": "stdout",
     "output_type": "stream",
     "text": [
      "The ASCII valu of A is 65\n"
     ]
    }
   ],
   "source": [
    "char=\"A\"\n",
    "print(f\"The ASCII valu of {char} is\",ord(char))"
   ]
  },
  {
   "cell_type": "markdown",
   "id": "f13b2595",
   "metadata": {},
   "source": [
    "### 5.\tWrite a Python Program to Make a Simple Calculator with 4 basic mathematical operations?"
   ]
  },
  {
   "cell_type": "code",
   "execution_count": 16,
   "id": "c1556738",
   "metadata": {},
   "outputs": [
    {
     "name": "stdout",
     "output_type": "stream",
     "text": [
      "Enter a number:85\n",
      "Enter second number15\n",
      "Please select operation -\n",
      "1. Add\n",
      "2. Subtract\n",
      "3. Multiply\n",
      "4. Divide\n",
      "\n",
      "Select operations form 1, 2, 3, 4 :3\n",
      "85 * 15 = 1275\n"
     ]
    }
   ],
   "source": [
    "num1=int(input(\"Enter a number:\"))\n",
    "num2=int(input(\"Enter second number\"))\n",
    "def add(num1, num2):\n",
    "    return num1 + num2\n",
    " \n",
    "def subtract(num1, num2):\n",
    "    return num1 - num2\n",
    "\n",
    "def multiply(num1, num2):\n",
    "    return num1 * num2\n",
    "\n",
    "def divide(num1, num2):\n",
    "    return num1 / num2\n",
    " \n",
    "print(\"Please select operation -\\n\"\n",
    "        \"1. Add\\n\" \n",
    "        \"2. Subtract\\n\" \n",
    "        \"3. Multiply\\n\" \n",
    "        \"4. Divide\\n\")\n",
    " \n",
    " \n",
    "\n",
    "select = int(input(\"Select operations form 1, 2, 3, 4 :\"))\n",
    " \n",
    "if select == 1:\n",
    "    print(num1, \"+\", num2, \"=\",\n",
    "add(num1, num2))\n",
    " \n",
    "elif select == 2:\n",
    "    print(num1, \"-\", num2, \"=\",\n",
    "subtract(num1, num2))\n",
    " \n",
    "elif select == 3:\n",
    "    print(num1, \"*\", num2, \"=\",\n",
    "multiply(num1, num2))\n",
    " \n",
    "elif select == 4:\n",
    "    print(num1, \"/\", num2, \"=\",\n",
    "divide(num1, num2))\n",
    "else:\n",
    "    print(\"Invalid input\")"
   ]
  },
  {
   "cell_type": "code",
   "execution_count": null,
   "id": "8dcfa026",
   "metadata": {},
   "outputs": [],
   "source": []
  }
 ],
 "metadata": {
  "kernelspec": {
   "display_name": "Python 3 (ipykernel)",
   "language": "python",
   "name": "python3"
  },
  "language_info": {
   "codemirror_mode": {
    "name": "ipython",
    "version": 3
   },
   "file_extension": ".py",
   "mimetype": "text/x-python",
   "name": "python",
   "nbconvert_exporter": "python",
   "pygments_lexer": "ipython3",
   "version": "3.9.12"
  }
 },
 "nbformat": 4,
 "nbformat_minor": 5
}
