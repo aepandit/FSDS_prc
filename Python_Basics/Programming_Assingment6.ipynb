{
 "cells": [
  {
   "cell_type": "markdown",
   "id": "f681ddbd",
   "metadata": {},
   "source": [
    "### 1.\tWrite a Python Program to Display Fibonacci Sequence Using Recursion?"
   ]
  },
  {
   "cell_type": "code",
   "execution_count": 1,
   "id": "5ae739c8",
   "metadata": {},
   "outputs": [
    {
     "name": "stdout",
     "output_type": "stream",
     "text": [
      "0\n",
      "1\n",
      "1\n",
      "2\n",
      "3\n",
      "5\n",
      "8\n",
      "13\n",
      "21\n",
      "34\n"
     ]
    }
   ],
   "source": [
    "def re_fibo(n):\n",
    "    if n <= 1:\n",
    "        return n\n",
    "    else:\n",
    "        return (re_fibo(n-1) + re_fibo(n-2))\n",
    "\n",
    "num_ele = 10\n",
    "\n",
    "if num_ele <= 0:\n",
    "    print(\"Enter a Positive number\")\n",
    "else:\n",
    "    for i in range(num_ele):\n",
    "        print(re_fibo(i))"
   ]
  },
  {
   "cell_type": "markdown",
   "id": "b7962a10",
   "metadata": {},
   "source": [
    "### 2.\tWrite a Python Program to Find Factorial of Number Using Recursion?"
   ]
  },
  {
   "cell_type": "code",
   "execution_count": 2,
   "id": "36d95057",
   "metadata": {},
   "outputs": [
    {
     "name": "stdout",
     "output_type": "stream",
     "text": [
      "The factorial of number is 1 \n"
     ]
    }
   ],
   "source": [
    "def re_fact(n):\n",
    "    if n == 0:\n",
    "        return 1\n",
    "    else:\n",
    "        return n*re_fact(n-1)\n",
    "\n",
    "num = 1\n",
    "print(f\"The factorial of number is {re_fact(num)} \")"
   ]
  },
  {
   "cell_type": "markdown",
   "id": "ee8bb82e",
   "metadata": {},
   "source": [
    "### 3.\tWrite a Python Program to calculate your Body Mass Index?"
   ]
  },
  {
   "cell_type": "code",
   "execution_count": 3,
   "id": "8d6208a5",
   "metadata": {},
   "outputs": [
    {
     "name": "stdout",
     "output_type": "stream",
     "text": [
      "BMI is 20.061728395061728\n"
     ]
    }
   ],
   "source": [
    "def BMI(weight,height):\n",
    "    return weight/(height**2)\n",
    "\n",
    "w=65\n",
    "h=1.8\n",
    "print(f\"BMI is {BMI(w,h)}\")"
   ]
  },
  {
   "cell_type": "markdown",
   "id": "622cc492",
   "metadata": {},
   "source": [
    "### 4.\tWrite a Python Program to calculate the natural logarithm of any number"
   ]
  },
  {
   "cell_type": "code",
   "execution_count": 4,
   "id": "fcdb9c6b",
   "metadata": {},
   "outputs": [
    {
     "data": {
      "text/plain": [
       "4.605170185988092"
      ]
     },
     "execution_count": 4,
     "metadata": {},
     "output_type": "execute_result"
    }
   ],
   "source": [
    "import math\n",
    "def log_num(n):\n",
    "    return math.log(n)\n",
    "\n",
    "log_num(100)"
   ]
  },
  {
   "cell_type": "markdown",
   "id": "1d9c7830",
   "metadata": {},
   "source": [
    "### 5.\tWrite a Python Program for cube sum of first n natural numbers?"
   ]
  },
  {
   "cell_type": "code",
   "execution_count": 2,
   "id": "713f9917",
   "metadata": {},
   "outputs": [
    {
     "data": {
      "text/plain": [
       "225"
      ]
     },
     "execution_count": 2,
     "metadata": {},
     "output_type": "execute_result"
    }
   ],
   "source": [
    "def sum_nat(n):\n",
    "    sum=0\n",
    "    for i in range(1,n+1):\n",
    "        sum=sum+pow(i,3)\n",
    "    return sum\n",
    "\n",
    "sum_nat(5)"
   ]
  },
  {
   "cell_type": "code",
   "execution_count": null,
   "id": "adabbcc5",
   "metadata": {},
   "outputs": [],
   "source": []
  }
 ],
 "metadata": {
  "kernelspec": {
   "display_name": "Python 3 (ipykernel)",
   "language": "python",
   "name": "python3"
  },
  "language_info": {
   "codemirror_mode": {
    "name": "ipython",
    "version": 3
   },
   "file_extension": ".py",
   "mimetype": "text/x-python",
   "name": "python",
   "nbconvert_exporter": "python",
   "pygments_lexer": "ipython3",
   "version": "3.9.12"
  }
 },
 "nbformat": 4,
 "nbformat_minor": 5
}
