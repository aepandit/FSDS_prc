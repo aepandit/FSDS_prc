{
 "cells": [
  {
   "cell_type": "markdown",
   "id": "8233eb4a",
   "metadata": {},
   "source": [
    "### 1.\tWrite a Python Program to find sum of array?"
   ]
  },
  {
   "cell_type": "code",
   "execution_count": 3,
   "id": "e6884e72",
   "metadata": {},
   "outputs": [
    {
     "data": {
      "text/plain": [
       "100"
      ]
     },
     "execution_count": 3,
     "metadata": {},
     "output_type": "execute_result"
    }
   ],
   "source": [
    "def sum_array(arr):\n",
    "    sum = 0\n",
    "    for i in arr:\n",
    "        sum = sum + i\n",
    "    return (sum)\n",
    "\n",
    "ele=[10,20,30,40]\n",
    "sum_array(ele)"
   ]
  },
  {
   "cell_type": "markdown",
   "id": "85eae4bc",
   "metadata": {},
   "source": [
    "### 2.\tWrite a Python Program to find largest element in an array?"
   ]
  },
  {
   "cell_type": "code",
   "execution_count": 9,
   "id": "0be32476",
   "metadata": {},
   "outputs": [
    {
     "data": {
      "text/plain": [
       "43"
      ]
     },
     "execution_count": 9,
     "metadata": {},
     "output_type": "execute_result"
    }
   ],
   "source": [
    "def lar_array(arr,n):\n",
    "    max = arr[0]\n",
    "    for i in range(1,n):\n",
    "        if arr[i] > max:\n",
    "            max=arr[i]\n",
    "    return max\n",
    "    \n",
    "num_list=[10,2,43,12]\n",
    "n=len(num_list)\n",
    "lar_array(num_list,n)          "
   ]
  },
  {
   "cell_type": "markdown",
   "id": "44681973",
   "metadata": {},
   "source": [
    "### 3.\tWrite a Python Program for array rotation?"
   ]
  },
  {
   "cell_type": "code",
   "execution_count": 11,
   "id": "3a718f6a",
   "metadata": {},
   "outputs": [
    {
     "name": "stdout",
     "output_type": "stream",
     "text": [
      "[3, 4, 5, 6, 1, 2]\n"
     ]
    }
   ],
   "source": [
    "def rotate_Array(a,d):\n",
    "    n=len(a)\n",
    "    a[:]=a[d:n]+a[0:d]\n",
    "    return a\n",
    "\n",
    "arr = [1, 2, 3, 4, 5, 6]\n",
    "print(rotate_Array(arr,2))"
   ]
  },
  {
   "cell_type": "markdown",
   "id": "2205fb8e",
   "metadata": {},
   "source": [
    "### 4.\tWrite a Python Program to Split the array and add the first part to the end?"
   ]
  },
  {
   "cell_type": "code",
   "execution_count": 34,
   "id": "67b1cdf4",
   "metadata": {},
   "outputs": [
    {
     "name": "stdout",
     "output_type": "stream",
     "text": [
      "3 45 34 9 10 12 "
     ]
    }
   ],
   "source": [
    "def split_array(arr, n, position):\n",
    "    for i in range(0,position):\n",
    "        x=arr[0]\n",
    "        for j in range(0,n-1):\n",
    "            arr[j]=arr[j+1]\n",
    "        arr[n-1]=x\n",
    "\n",
    "arr=[10,12,3,45,34,9]\n",
    "n=len(arr)\n",
    "k=2\n",
    "\n",
    "split_array(arr,n,k)\n",
    "\n",
    "for i in range(0,n):\n",
    "    print(arr[i],end=' ')"
   ]
  },
  {
   "cell_type": "markdown",
   "id": "e33a64ac",
   "metadata": {},
   "source": [
    "### 5.\tWrite a Python Program to check if given array is Monotonic?"
   ]
  },
  {
   "cell_type": "code",
   "execution_count": 38,
   "id": "f76b538e",
   "metadata": {},
   "outputs": [
    {
     "data": {
      "text/plain": [
       "False"
      ]
     },
     "execution_count": 38,
     "metadata": {},
     "output_type": "execute_result"
    }
   ],
   "source": [
    "def monotonic(A):\n",
    "    n=len(A)\n",
    "    if all(A[i]>=A[i+1] for i in range(0,n-1) or A[i]<=A[i+1] for i in range(0,n-1)):\n",
    "        return True\n",
    "    else:\n",
    "        return False\n",
    "\n",
    "B=[1,2,3,9,4,5,6]\n",
    "\n",
    "monotonic(B)"
   ]
  },
  {
   "cell_type": "code",
   "execution_count": null,
   "id": "efc96dcf",
   "metadata": {},
   "outputs": [],
   "source": []
  }
 ],
 "metadata": {
  "kernelspec": {
   "display_name": "Python 3 (ipykernel)",
   "language": "python",
   "name": "python3"
  },
  "language_info": {
   "codemirror_mode": {
    "name": "ipython",
    "version": 3
   },
   "file_extension": ".py",
   "mimetype": "text/x-python",
   "name": "python",
   "nbconvert_exporter": "python",
   "pygments_lexer": "ipython3",
   "version": "3.9.12"
  }
 },
 "nbformat": 4,
 "nbformat_minor": 5
}
